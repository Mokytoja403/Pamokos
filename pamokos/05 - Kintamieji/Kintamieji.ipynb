{
  "cells": [
    {
      "cell_type": "markdown",
      "source": [
        "[![Open In Colab](https://colab.research.google.com/assets/colab-badge.svg)](https://colab.research.google.com/github/blaztoma/pitono-pamokos/blob/main/pamokos/05%20-%20Kintamieji/Kintamieji.ipynb)"
      ],
      "metadata": {},
      "attachments": {}
    },
    {
      "cell_type": "markdown",
      "source": [
        "# Kintamieji"
      ],
      "metadata": {
        "id": "joEKV-9mX_uS"
      }
    },
    {
      "cell_type": "markdown",
      "source": [
        "Programavimo kalbos turi labai patogią priemonę pakartotiniam duomenų naudojimui. Jei turime duomenų, kuriuos reikia prisiminti ir panaudoti vėliau, galime sukurti kintamąjį. Jame saugosime reikšmę ir prireikus panaudosime.Pitone reikšmių priskyrimui kintamiesiems naudosime lygybės ženklą (`=`)."
      ],
      "metadata": {
        "id": "DmtwV6EoYDkZ"
      }
    },
    {
      "cell_type": "code",
      "execution_count": null,
      "source": [
        "tekstas = 'Teksto eilutė'\r\n",
        "print(tekstas)"
      ],
      "outputs": [],
      "metadata": {
        "colab": {
          "base_uri": "https://localhost:8080/"
        },
        "id": "rpsbQXBaXRwj",
        "outputId": "3d371ea3-b735-4c3c-bbff-007a6206cc44"
      }
    },
    {
      "cell_type": "markdown",
      "source": [
        "## Kintamųjų kūrimo taisyklės"
      ],
      "metadata": {
        "id": "XuhBFDuPZ9aj"
      }
    },
    {
      "cell_type": "markdown",
      "source": [
        "1. Norint sukurti kintamąjį mums užtenka iškart rašyti kintamojo pavadinimą. Python nuspręs kintamojo tipą pagal jo reikšmę.\n",
        "2. Kintamojo pavadinimą gali sudaryti raidės, skaičiai ir apatinis brūkšnelis (A-z, 0-9, _).\n",
        "3. Kintamojo pavadinimas gali prasidėti tik raide arba apatiniu brūkšneliu. \n",
        "4. Pagal Pitono programavimo stiliaus gaires, kintamųjų pavadinimai turėtų prasidėti mažąja raide.\n",
        "5. Pagal Pitono programavimo stiliaus gaires, atskiri kintamojo pavadinimo žodžiai jungiami pabraukimu (pvz. `lauko_temperatura`).\n",
        "4. Kintamųjų pavadinimai yra jautrūs mažosioms/didžiosioms raidėms. A didžioji ir a mažoji nėra tas pats, todėl kintamasis `vardas` ir kintamasis `VARDAS` nėra tas pat.\n",
        "5. Aprašant reikšmę reikia nepamiršti naudoti ar nenaudoti kabučių, pagal tai koks kintamojo tipas yra naudojamas"
      ],
      "metadata": {
        "id": "uAqfoRV7aC7o"
      }
    },
    {
      "cell_type": "markdown",
      "source": [
        "# Duomenų tipai"
      ],
      "metadata": {
        "id": "yCj_9f0kba-s"
      }
    },
    {
      "cell_type": "markdown",
      "source": [
        "Duomenų tipas  | Raktažodis \n",
        "-------------------|------------------\n",
        "Tekstas (text type) | `str`\n",
        "Skaičius (numeric types) | `int`, `float`, `complex`\n",
        "Sąrašai (sequence types) | `list`, `tuple`, `range`\n",
        "Žodynai (mapping type) | `dict`\n",
        "Rinkiniai (set types) | `set`, `frozenset`\n",
        "Loginis (boolean) | `bool`\n",
        "Dvejetainis (binary types) | `bytes`, `bytearray`, `memoryview`\n",
        "Jokio tipo | `NoneType`"
      ],
      "metadata": {
        "id": "_VdfImm5be26"
      }
    },
    {
      "cell_type": "markdown",
      "source": [
        "# Pavyzdžiai"
      ],
      "metadata": {
        "id": "UcVHYWy_diJ2"
      }
    },
    {
      "cell_type": "markdown",
      "source": [
        "Norėdami parodyti Pitonui, kad kintamasis yra eilutė panaudojam viengubas arba dvigubas kabutes:"
      ],
      "metadata": {
        "id": "F-QZdEZNdmS4"
      }
    },
    {
      "cell_type": "code",
      "execution_count": 3,
      "source": [
        "vardas = 'Vardenis'\r\n",
        "pavarde = \"Pavardenis\"\r\n",
        "\r\n",
        "print(vardas)\r\n",
        "print(pavarde)"
      ],
      "outputs": [
        {
          "output_type": "stream",
          "name": "stdout",
          "text": [
            "Vardenis\n",
            "Pavardenis\n"
          ]
        }
      ],
      "metadata": {
        "colab": {
          "base_uri": "https://localhost:8080/"
        },
        "id": "ylGX5Btid6Pp",
        "outputId": "e02e2f4b-882c-46d1-d5ec-b996bf207ef6"
      }
    },
    {
      "cell_type": "markdown",
      "source": [
        "Skaičius būtinai rašome be kabučių. Taip Pitonas supras, kad kintamasis yra skaičiaus tipo. "
      ],
      "metadata": {
        "id": "GTPPz1a6eCpf"
      }
    },
    {
      "cell_type": "code",
      "execution_count": 5,
      "source": [
        "skaicius_1 = 8\r\n",
        "skaicius_2 = 4\r\n",
        "\r\n",
        "print(skaicius_1)\r\n",
        "print(skaicius_2)\r\n",
        "\r\n",
        "print(skaicius_1 + skaicius_2)"
      ],
      "outputs": [
        {
          "output_type": "stream",
          "name": "stdout",
          "text": [
            "8\n",
            "4\n",
            "12\n"
          ]
        }
      ],
      "metadata": {
        "colab": {
          "base_uri": "https://localhost:8080/"
        },
        "id": "PkqOUMtEeOSL",
        "outputId": "319707d8-c11a-4239-d452-0757ef27400f"
      }
    },
    {
      "cell_type": "markdown",
      "source": [
        "Šiame pavyzdyje pridėtas skaičiaus su kableliu ir None tipai."
      ],
      "metadata": {
        "id": "10rVUNeSflBO"
      }
    },
    {
      "cell_type": "code",
      "execution_count": 6,
      "source": [
        "marke = 'Audi'\r\n",
        "modelis = 'A4'\r\n",
        "metai = 2010\r\n",
        "rida = 124775\r\n",
        "darbinis_turis = 1.6\r\n",
        "ar_yra_technikine = False\r\n",
        "savininkas = None\r\n",
        "\r\n",
        "print('Markė:', marke)\r\n",
        "print('Modelis:', modelis)\r\n",
        "print('Metai:', metai)\r\n",
        "print('Rida, km:', rida)\r\n",
        "print('Darbinis tūris, l:', darbinis_turis)\r\n",
        "print('Ar yra technikinė?', ar_yra_technikine)\r\n",
        "print('Savininkas:', savininkas)"
      ],
      "outputs": [
        {
          "output_type": "stream",
          "name": "stdout",
          "text": [
            "Marke: Audi\n",
            "Modelis: A4\n",
            "Metai: 2010\n",
            "Rida, km: 124775\n",
            "Darbinis turis, l: 1.6\n",
            "Ar yra technikine? False\n",
            "Savininkas: None\n"
          ]
        }
      ],
      "metadata": {
        "colab": {
          "base_uri": "https://localhost:8080/"
        },
        "id": "uuGucylUfxAs",
        "outputId": "5049667c-f416-4f1c-a851-e54a74e1228f"
      }
    },
    {
      "cell_type": "markdown",
      "source": [
        "Jei norime pasižiūrėti, kokius tipus Pitonas priskyrė kintamiesiems, panaudojam funkciją `type()`:"
      ],
      "metadata": {
        "id": "dOB3akKyhQh7"
      }
    },
    {
      "cell_type": "code",
      "execution_count": 7,
      "source": [
        "marke = 'Audi'\r\n",
        "modelis = 'A4'\r\n",
        "metai = 2010\r\n",
        "rida = 124775\r\n",
        "darbinis_turis = 1.6\r\n",
        "ar_technikine = False\r\n",
        "savininkas = None\r\n",
        "\r\n",
        "print(marke, type(marke))\r\n",
        "print(modelis, type(modelis))\r\n",
        "print(metai, type(metai))\r\n",
        "print(rida, type(rida))\r\n",
        "print(darbinis_turis, type(darbinis_turis))\r\n",
        "print(ar_technikine, type(ar_technikine))\r\n",
        "print(savininkas, type(savininkas))"
      ],
      "outputs": [
        {
          "output_type": "stream",
          "name": "stdout",
          "text": [
            "Audi <class 'str'>\n",
            "A4 <class 'str'>\n",
            "2010 <class 'int'>\n",
            "124775 <class 'int'>\n",
            "1.6 <class 'float'>\n",
            "False <class 'bool'>\n",
            "None <class 'NoneType'>\n"
          ]
        }
      ],
      "metadata": {
        "colab": {
          "base_uri": "https://localhost:8080/"
        },
        "id": "V8b0vcEEhacc",
        "outputId": "6f82ae07-edb5-423b-b270-aaf4ce3c5e08"
      }
    },
    {
      "cell_type": "markdown",
      "source": [
        "# Užduotys"
      ],
      "metadata": {
        "id": "cAFdT8BCiVCR"
      }
    },
    {
      "cell_type": "markdown",
      "source": [
        "Atlikite žemiau esančias užduotis, o rezultatą įsivertinkite patys."
      ],
      "metadata": {
        "id": "o53g8eN8knYN"
      }
    },
    {
      "cell_type": "markdown",
      "source": [
        "## Užduotis 1"
      ],
      "metadata": {
        "id": "D2mpDLebih-g"
      }
    },
    {
      "cell_type": "markdown",
      "source": [
        "Susikurkite kintamąjį savo vardui saugoti. Išveskite į konsolę tekstą \"Mano vardas yra \" ir turimo kintamojo reikšmę."
      ],
      "metadata": {
        "id": "ZklhTwT9iZ2R"
      }
    },
    {
      "cell_type": "code",
      "execution_count": null,
      "source": [
        "# Kodą rašykite čia..."
      ],
      "outputs": [],
      "metadata": {
        "id": "d5K8Hm2JiYnl"
      }
    },
    {
      "cell_type": "markdown",
      "source": [
        "## Užduotis 2"
      ],
      "metadata": {
        "id": "98XYwnUKik-b"
      }
    },
    {
      "cell_type": "markdown",
      "source": [
        "Susikurkite kintamuosius studento akademinei grupei ir vidurkiui saugoti. Išveskite į konsolę šią informaciją tokiu pavidalu:\n",
        "```\n",
        "Akademinė grupė: ifzm-6\n",
        "Vidurkis: 8\n",
        "```"
      ],
      "metadata": {
        "id": "nL6PRd1siwa0"
      }
    },
    {
      "cell_type": "code",
      "execution_count": null,
      "source": [
        "# Kodą rašykite čia..."
      ],
      "outputs": [],
      "metadata": {
        "id": "MtIB53Y4jph_"
      }
    },
    {
      "cell_type": "markdown",
      "source": [
        "## Užduotis 3"
      ],
      "metadata": {
        "id": "ceLstTcSjCaG"
      }
    },
    {
      "cell_type": "markdown",
      "source": [
        "Susikurkite kintamąjį, kuris saugotų žodį Lietuva!. O dabar Pitono pagalba skanduosime, išvesdami šį žodį į konsolę tris kartus `Lietuva! Lietuva! Lietuva!`."
      ],
      "metadata": {
        "id": "DJGMvlqpjGBn"
      }
    },
    {
      "cell_type": "code",
      "execution_count": null,
      "source": [
        "# Kodą rašykite čia..."
      ],
      "outputs": [],
      "metadata": {
        "id": "2r1T2IeZjqNK"
      }
    },
    {
      "cell_type": "markdown",
      "source": [
        "## Užduotis 4"
      ],
      "metadata": {
        "id": "tw0Z4_MQjrxc"
      }
    },
    {
      "cell_type": "markdown",
      "source": [
        "Aprašykite ir išveskite (atskirose eilutėse) kintamuosius, saugančius šią informaciją apie miestą:\n",
        "1. Pavadinimas;\n",
        "2. Valstybė;\n",
        "3. Įkūrimo data;\n",
        "4. Platuma;\n",
        "5. Ilguma;\n",
        "6. Plotas kv. km.;\n",
        "7. Gyventojų skaičius (tukstančiais)."
      ],
      "metadata": {
        "id": "n7BDeur0jvXS"
      }
    },
    {
      "cell_type": "code",
      "execution_count": 1,
      "source": [
        "# Kodą rašykite čia...\r\n"
      ],
      "outputs": [],
      "metadata": {
        "id": "oYJ12D0HkbFb"
      }
    },
    {
      "cell_type": "markdown",
      "source": [
        "## Užduotis 5\n",
        "\n",
        "Susikurkite kintamąjį, kuris saugotų bet kokį žodį. Išveskite šį žodį naudojant vieną `print()`. Žodis turi būti išvestas 5 kartus toje pačioje eilutėje, atskiriant tarpo simboliu."
      ],
      "metadata": {},
      "attachments": {}
    },
    {
      "cell_type": "code",
      "execution_count": null,
      "source": [
        "# Kodą rašykite čia..."
      ],
      "outputs": [],
      "metadata": {}
    }
  ],
  "metadata": {
    "colab": {
      "provenance": []
    },
    "kernelspec": {
      "display_name": "Python 3",
      "language": "python",
      "name": "python3"
    },
    "language_info": {
      "codemirror_mode": {
        "name": "ipython",
        "version": 3
      },
      "file_extension": ".py",
      "mimetype": "text/x-python",
      "name": "python",
      "nbconvert_exporter": "python",
      "pygments_lexer": "ipython3",
      "version": "3.7.9 (tags/v3.7.9:13c94747c7, Aug 17 2020, 18:58:18) [MSC v.1900 64 bit (AMD64)]"
    },
    "vscode": {
      "interpreter": {
        "hash": "aa11ca274996316222ef16f35c5f6dbeb467b694c0b2154cdf34dcf9271d5fd0"
      }
    }
  },
  "nbformat": 4,
  "nbformat_minor": 2
}